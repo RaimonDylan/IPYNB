{
 "cells": [
  {
   "cell_type": "markdown",
   "metadata": {},
   "source": [
    "## Notes\n",
    "- Langage de haut niveau\n",
    "- Indentation interprétée\n",
    "- Langage dynamique et interprété\n",
    "\n",
    "\"\"\" Commentaire python \n",
    "String multiligne\n",
    "\"\"\""
   ]
  },
  {
   "cell_type": "code",
   "execution_count": 30,
   "metadata": {},
   "outputs": [],
   "source": [
    "# Packages\n",
    "import numpy as np\n",
    "import matplotlib as plt\n",
    "import scipy \n",
    "import sounddevice\n",
    "import librosa"
   ]
  },
  {
   "cell_type": "code",
   "execution_count": 31,
   "metadata": {},
   "outputs": [
    {
     "name": "stdout",
     "output_type": "stream",
     "text": [
      "<class 'bool'>\n",
      "<class 'str'>\n",
      "<class 'complex'>\n"
     ]
    }
   ],
   "source": [
    "a = True\n",
    "print(type(a))\n",
    "b = \"éééééééé\"\n",
    "print(type(b))\n",
    "print(type(1j))\n"
   ]
  },
  {
   "cell_type": "code",
   "execution_count": 47,
   "metadata": {},
   "outputs": [
    {
     "name": "stdout",
     "output_type": "stream",
     "text": [
      "False\n",
      "print(a || b) not working\n"
     ]
    }
   ],
   "source": [
    "a = True\n",
    "b = False\n",
    "print(a and b)\n",
    "print('print(a || b) not working')"
   ]
  },
  {
   "cell_type": "code",
   "execution_count": 195,
   "metadata": {},
   "outputs": [
    {
     "name": "stdout",
     "output_type": "stream",
     "text": [
      "m_e_h\n",
      "LOURD\n",
      "Text relou      .\n",
      "Textrelou.\n",
      "S'il\n",
      "Sil\n",
      "['COUCOU', 1, 4, 21, 112, 'Hello', 4, 'World']\n",
      "COUCOU\n",
      "[1, 2, 3, 4, 6]\n",
      "[0, 1, 2, 3, 4, 5, 6, 7, 8, 9]\n",
      "[2, 3]\n",
      "2\n",
      "[0, 1, 2, 3, 4]\n",
      "[3, 4, 5, 6, 7, 8, 9]\n",
      "[0, 1, 2, 3, 4, 5, 6, 7, 8]\n",
      "[2, 4]\n",
      "Imprimez tous les numeros impairs\n",
      "[1, 3, 5, 7, 9, 11, 13, 15, 17, 19, 21, 23, 25, 27, 29, 31, 33, 35, 37, 39, 41, 43, 45, 47, 49, 51, 53, 55, 57, 59, 61, 63, 65, 67, 69, 71, 73, 75, 77, 79, 81, 83, 85, 87, 89, 91, 93, 95, 97, 99]\n",
      "Imprimez tous les numeros pairs\n",
      "[0, 2, 4, 6, 8, 10, 12, 14, 16, 18, 20, 22, 24, 26, 28, 30, 32, 34, 36, 38, 40, 42, 44, 46, 48, 50, 52, 54, 56, 58, 60, 62, 64, 66, 68, 70, 72, 74, 76, 78, 80, 82, 84, 86, 88, 90, 92, 94, 96, 98]\n",
      "Imprimez tous les numeros multiples de 3\n",
      "[0, 3, 6, 9, 12, 15, 18, 21, 24, 27, 30, 33, 36, 39, 42, 45, 48, 51, 54, 57, 60, 63, 66, 69, 72, 75, 78, 81, 84, 87, 90, 93, 96, 99]\n",
      "Imprimez tous les numeros multiples de 5\n",
      "[0, 5, 10, 15, 20, 25, 30, 35, 40, 45, 50, 55, 60, 65, 70, 75, 80, 85, 90, 95]\n",
      "Imprimez tous les numeros de 99 à 0\n",
      "[99, 98, 97, 96, 95, 94, 93, 92, 91, 90, 89, 88, 87, 86, 85, 84, 83, 82, 81, 80, 79, 78, 77, 76, 75, 74, 73, 72, 71, 70, 69, 68, 67, 66, 65, 64, 63, 62, 61, 60, 59, 58, 57, 56, 55, 54, 53, 52, 51, 50, 49, 48, 47, 46, 45, 44, 43, 42, 41, 40, 39, 38, 37, 36, 35, 34, 33, 32, 31, 30, 29, 28, 27, 26, 25, 24, 23, 22, 21, 20, 19, 18, 17, 16, 15, 14, 13, 12, 11, 10, 9, 8, 7, 6, 5, 4, 3, 2, 1, 0]\n",
      "cat => 0\n",
      "dog => 1\n",
      "dolphin => 2\n",
      "bear => 3\n",
      "caribou => 4\n",
      "['CAT', 'DOG', 'DOLPHIN', 'BEAR', 'CARIBOU']\n",
      "__________________\n",
      "<generator object <genexpr> at 0x0000028934BB76D0>\n",
      "CAT\n",
      "__________________\n",
      "[0, 1, 4, 9, 16, 25, 36, 49, 64, 81]\n",
      "{'cherry', 'banana', 'apple'}\n"
     ]
    }
   ],
   "source": [
    "m = \"m\"\n",
    "e = \"e\"\n",
    "h = \"h\"\n",
    "\n",
    "print(f'{m}_{e}_{h}')\n",
    "print('LOURD')\n",
    "\n",
    "n = \" Text relou      .\"\n",
    "print(n.strip())\n",
    "print(n.replace(' ', ''))\n",
    "\n",
    "print(\"S'il\")\n",
    "print('S''il')\n",
    "\n",
    "\n",
    "c = ['COUCOU', 1, 4, 21, 112, 'Hello', 4, 'World']\n",
    "print(c)\n",
    "\n",
    "\n",
    "listMeh = [1,2,3,4,6]\n",
    "listMeh.append('COUCOU')\n",
    "\n",
    "print(listMeh.pop())\n",
    "print(listMeh)\n",
    "\n",
    "\n",
    "ar = list(range(0,10))\n",
    "\n",
    "print(ar)\n",
    "print(ar[2:4]) # 2 compris | 4 non compris\n",
    "print(len(ar[2:4]))\n",
    "print(ar[:5])\n",
    "\n",
    "print(ar[3:None])\n",
    "print(ar[:-1])\n",
    "\n",
    "\n",
    "\n",
    "nums = list(range(10))\n",
    "print(nums[2:6:2])\n",
    "\n",
    "\n",
    "nums = list(range(100))\n",
    "print('Imprimez tous les numeros impairs')\n",
    "print(nums[1::2])\n",
    "print('Imprimez tous les numeros pairs')\n",
    "print(nums[:None:2])\n",
    "print('Imprimez tous les numeros multiples de 3')\n",
    "print(nums[:None:3])\n",
    "print('Imprimez tous les numeros multiples de 5')\n",
    "print(nums[:None:5])\n",
    "print('Imprimez tous les numeros de 99 à 0')\n",
    "print(nums[:None:-1])\n",
    "\n",
    "# for i in nums: print(i)\n",
    "\n",
    "# for i in range(10):\n",
    "\n",
    "animals = ['cat', 'dog', 'dolphin', 'bear', 'caribou']\n",
    "\n",
    "for i, animal in enumerate(animals):\n",
    "    print(f'{animal} => {i}')\n",
    "    \n",
    "animals_upper = [];\n",
    "for animal in animals:\n",
    "    animals_upper.append(animal.upper())\n",
    "    \n",
    "print(animals_upper)\n",
    "\n",
    "# DAAAAAAAAAMN\n",
    "#animeh = [animal.upper() for animal in animals if animal.startswith('c')]\n",
    "\n",
    "\n",
    "\n",
    "animeh = (animal.upper() for animal in animals if animal.startswith('c'))\n",
    "\n",
    "print('__________________')\n",
    "print((animeh))\n",
    "print(list(animeh)[0])\n",
    "print('__________________')\n",
    "\n",
    "meh = []\n",
    "for i in range(10):\n",
    "    meh.append(i**2)\n",
    "\n",
    "print(meh)\n",
    "\n",
    "ss = set() # Iems unique et non ordonné\n",
    "ss.add('meh')\n",
    "ss.add('meh1')\n",
    "ss.add('meh2')\n",
    "ss.add('meh2')\n",
    "#print(ss)\n",
    "#for meh in ss:\n",
    "#    if(meh == 'meh1'):\n",
    "#        ss.remove(meh)\n",
    "\n",
    "\n",
    "\n",
    "thisset = set((\"apple\", \"banana\", \"cherry\")) # note the double round-brackets\n",
    "print(thisset) \n"
   ]
  },
  {
   "cell_type": "code",
   "execution_count": null,
   "metadata": {},
   "outputs": [],
   "source": []
  },
  {
   "cell_type": "markdown",
   "metadata": {},
   "source": [
    "### Dict"
   ]
  },
  {
   "cell_type": "code",
   "execution_count": 244,
   "metadata": {},
   "outputs": [
    {
     "name": "stdout",
     "output_type": "stream",
     "text": [
      "9\n",
      "True\n",
      "{'cat': 9, 'dog': 1, 'fish': 1}\n",
      "N/A\n",
      "1\n",
      "9\n",
      "{'cat': 9, 'dog': 1, 'fish': 1}\n",
      "4\n",
      "{'cat': 9, 'caribou': 4}\n",
      "______________________\n",
      "cat\n",
      "caribou\n",
      "______________________\n",
      "cat has 9 lives \n",
      "caribou has 4 lives \n",
      "______________________\n",
      "{0: 0, 1: 1, 2: 4, 3: 9, 4: 16, 5: 25, 6: 36, 7: 49, 8: 64, 9: 81}\n",
      "{'a': 'A', 'b': 'B', 'c': 'C', 'd': 'D', 'e': 'E', 'f': 'F', 'g': 'G', 'h': 'H', 'i': 'I', 'j': 'J', 'k': 'K', 'l': 'L', 'm': 'M', 'n': 'N', 'o': 'O', 'p': 'P', 'q': 'Q', 'r': 'R', 's': 'S', 't': 'T', 'u': 'U', 'v': 'V', 'w': 'W', 'x': 'X', 'y': 'Y', 'z': 'Z'}\n"
     ]
    }
   ],
   "source": [
    "a = dict()\n",
    "b = {}\n",
    "c = {}\n",
    "vies = {'cat': 9, 'dog': 1}\n",
    "\n",
    "print(vies['cat'])\n",
    "print('cat' in vies)\n",
    "vies['fish'] = 1\n",
    "print(vies)\n",
    "\n",
    "print(vies.get('monkey', 'N/A')) # Affiche NA s'il ne trouve pas\n",
    "print(vies.get('fish', 'N/A'))\n",
    "print(vies.get('cat'))\n",
    "print(vies)\n",
    "if(vies['fish']): del vies['fish'] # remove from dict\n",
    "print(vies.setdefault('caribou', 4)) # Si elle n'existe pas , on l'ajoute et on met la val\n",
    "vies.pop('dog') # Supprime la clé \n",
    "print(vies)\n",
    "\n",
    "print('______________________')\n",
    "for key in vies:\n",
    "    print(key)\n",
    "print('______________________')\n",
    "\n",
    "for animal, life in vies.items():\n",
    "    print(f'{animal} has {life} lives ')\n",
    "    \n",
    "print('______________________')\n",
    "num_au_carre = {x: x ** 2 for x in range(10)}\n",
    "print(num_au_carre)\n",
    "\n"
   ]
  },
  {
   "cell_type": "markdown",
   "metadata": {},
   "source": [
    "# 🔥  Afficher toutes les lettres de l'alphabet dans un dict avec comme key min et value maj 🔥 "
   ]
  },
  {
   "cell_type": "code",
   "execution_count": 245,
   "metadata": {},
   "outputs": [
    {
     "name": "stdout",
     "output_type": "stream",
     "text": [
      "{'a': 'A', 'b': 'B', 'c': 'C', 'd': 'D', 'e': 'E', 'f': 'F', 'g': 'G', 'h': 'H', 'i': 'I', 'j': 'J', 'k': 'K', 'l': 'L', 'm': 'M', 'n': 'N', 'o': 'O', 'p': 'P', 'q': 'Q', 'r': 'R', 's': 'S', 't': 'T', 'u': 'U', 'v': 'V', 'w': 'W', 'x': 'X', 'y': 'Y', 'z': 'Z'}\n"
     ]
    }
   ],
   "source": [
    "\n",
    "meh = (ord('a'))\n",
    "me = {chr(x): chr(x).upper() for x in range(meh, meh+26) }\n",
    "\n",
    "# Version noob\n",
    "#meeeh = {}\n",
    "#for x in range(meh,meh+26):\n",
    "#    meeeh[chr(x)]  = chr(x).upper()\n",
    "print(meeeh)"
   ]
  },
  {
   "cell_type": "markdown",
   "metadata": {},
   "source": [
    "## Sets"
   ]
  },
  {
   "cell_type": "code",
   "execution_count": 262,
   "metadata": {},
   "outputs": [
    {
     "name": "stdout",
     "output_type": "stream",
     "text": [
      "{'cat', 'dog', 'Koala'}\n",
      "8\n",
      "6 {1, 2, 3, 4, 5, 6}\n",
      "{'laboris', 'dolore', 'aute', 'voluptate', 'sunt', 'officia', 'tempor', 'magna', 'cillum', 'adipiscing', 'deserunt', 'proident,', 'non', 'irure', 'culpa', 'mollit', 'ad', 'dolor', 'enim', 'reprehenderit', 'fugiat', 'nulla', 'velit', 'commodo', 'do', 'nostrud', 'elit,', 'exercitation', 'qui', 'amet,', 'veniam,', 'aliquip', 'incididunt', 'cupidatat', 'ea', 'consectetur', 'sit', 'Duis', 'quis', 'id', 'aliqua.', 'consequat.', 'eiusmod', 'in', 'ut', 'eu', 'sed', 'et', 'sint', 'Excepteur', 'minim', 'labore', 'esse', 'ullamco', 'nisi', 'est', 'laborum.', 'ipsum', 'occaecat', 'ex', 'Ut', 'pariatur.', 'anim', 'Lorem'}\n",
      "{1, 2, 3, 5}\n",
      "{1, 2, 3, 4, 5, 6, 7, 11}\n",
      "{11, 7}\n",
      "{4, 6}\n",
      "{4, 6, 7, 11}\n",
      "1: 1\n",
      "2: 2\n",
      "3: 3\n"
     ]
    }
   ],
   "source": [
    "animals = {'cat', 'dog'}\n",
    "animals.add('Koala')\n",
    "print(animals)\n",
    "\n",
    "l = [1, 2, 3, 4, 1, 2, 5, 6]\n",
    "print(len(l))\n",
    "\n",
    "x = set(l)\n",
    "print(len(x), x)\n",
    "\n",
    "\n",
    "text = \"Lorem ipsum dolor sit amet, consectetur adipiscing elit, sed do eiusmod tempor incididunt ut labore et dolore magna aliqua. Ut enim ad minim veniam, quis nostrud exercitation ullamco laboris nisi ut aliquip ex ea commodo consequat. Duis aute irure dolor in reprehenderit in voluptate velit esse cillum dolore eu fugiat nulla pariatur. Excepteur sint occaecat cupidatat non proident, sunt in culpa qui officia deserunt mollit anim id est laborum.\"\n",
    "\n",
    "\n",
    "\n",
    "text.split()\n",
    "\n",
    "\n",
    "print(set(text.split()))\n",
    "\n",
    "\n",
    "\n",
    "a = {1, 2, 3, 5, 7, 11}\n",
    "b = {1, 2, 3, 4, 5, 6}\n",
    "\n",
    "print(a & b) # element dans a et dans b\n",
    "print(a | b) # element dans a ou dans b\n",
    "print(a - b) # element dans a ET PAS dans b\n",
    "print(b - a) # element dans b ET PAS dans a\n",
    "print(a ^ b) # element dans a OU dans b MAIS PAS DANS LES DEUX\n",
    "\n",
    "\n",
    "\n",
    "c = {3, 2, 1}\n",
    "for idx, x in enumerate(c):\n",
    "    print(f'{idx+1}: {x}')\n",
    "\n",
    "    \n",
    "    "
   ]
  },
  {
   "cell_type": "markdown",
   "metadata": {},
   "source": [
    "# les TUPELS"
   ]
  },
  {
   "cell_type": "code",
   "execution_count": 11,
   "metadata": {},
   "outputs": [
    {
     "name": "stdout",
     "output_type": "stream",
     "text": [
      "1\n",
      "(2,)\n",
      "3\n",
      "<class 'tuple'>\n"
     ]
    },
    {
     "ename": "TypeError",
     "evalue": "unhashable type: 'list'",
     "output_type": "error",
     "traceback": [
      "\u001b[1;31m---------------------------------------------------------------------------\u001b[0m",
      "\u001b[1;31mTypeError\u001b[0m                                 Traceback (most recent call last)",
      "\u001b[1;32m<ipython-input-11-d38a6d6b0cf6>\u001b[0m in \u001b[0;36m<module>\u001b[1;34m()\u001b[0m\n\u001b[0;32m     17\u001b[0m     \u001b[1;33m[\u001b[0m\u001b[1;36m0\u001b[0m\u001b[1;33m,\u001b[0m\u001b[1;36m0\u001b[0m\u001b[1;33m]\u001b[0m\u001b[1;33m:\u001b[0m \u001b[1;34m'o'\u001b[0m\u001b[1;33m,\u001b[0m \u001b[1;33m[\u001b[0m\u001b[1;36m0\u001b[0m\u001b[1;33m,\u001b[0m\u001b[1;36m1\u001b[0m\u001b[1;33m]\u001b[0m\u001b[1;33m:\u001b[0m \u001b[1;34m' '\u001b[0m\u001b[1;33m,\u001b[0m \u001b[1;33m[\u001b[0m\u001b[1;36m0\u001b[0m\u001b[1;33m,\u001b[0m\u001b[1;36m2\u001b[0m\u001b[1;33m]\u001b[0m\u001b[1;33m:\u001b[0m \u001b[1;34m' '\u001b[0m\u001b[1;33m,\u001b[0m\u001b[1;33m\u001b[0m\u001b[0m\n\u001b[0;32m     18\u001b[0m     \u001b[1;33m[\u001b[0m\u001b[1;36m1\u001b[0m\u001b[1;33m,\u001b[0m\u001b[1;36m0\u001b[0m\u001b[1;33m]\u001b[0m\u001b[1;33m:\u001b[0m \u001b[1;34m'o'\u001b[0m\u001b[1;33m,\u001b[0m \u001b[1;33m[\u001b[0m\u001b[1;36m1\u001b[0m\u001b[1;33m,\u001b[0m\u001b[1;36m1\u001b[0m\u001b[1;33m]\u001b[0m\u001b[1;33m:\u001b[0m \u001b[1;34m' '\u001b[0m\u001b[1;33m,\u001b[0m \u001b[1;33m[\u001b[0m\u001b[1;36m1\u001b[0m\u001b[1;33m,\u001b[0m\u001b[1;36m2\u001b[0m\u001b[1;33m]\u001b[0m\u001b[1;33m:\u001b[0m \u001b[1;34m' '\u001b[0m\u001b[1;33m,\u001b[0m\u001b[1;33m\u001b[0m\u001b[0m\n\u001b[1;32m---> 19\u001b[1;33m     \u001b[1;33m[\u001b[0m\u001b[1;36m2\u001b[0m\u001b[1;33m,\u001b[0m\u001b[1;36m0\u001b[0m\u001b[1;33m]\u001b[0m\u001b[1;33m:\u001b[0m \u001b[1;34m'o'\u001b[0m\u001b[1;33m,\u001b[0m \u001b[1;33m[\u001b[0m\u001b[1;36m2\u001b[0m\u001b[1;33m,\u001b[0m\u001b[1;36m1\u001b[0m\u001b[1;33m]\u001b[0m\u001b[1;33m:\u001b[0m \u001b[1;34m' '\u001b[0m\u001b[1;33m,\u001b[0m \u001b[1;33m[\u001b[0m\u001b[1;36m2\u001b[0m\u001b[1;33m,\u001b[0m\u001b[1;36m2\u001b[0m\u001b[1;33m]\u001b[0m\u001b[1;33m:\u001b[0m \u001b[1;34m' '\u001b[0m\u001b[1;33m\u001b[0m\u001b[0m\n\u001b[0m\u001b[0;32m     20\u001b[0m     }\n",
      "\u001b[1;31mTypeError\u001b[0m: unhashable type: 'list'"
     ]
    }
   ],
   "source": [
    "a = (1, 2)\n",
    "b = (1, 2, 3)\n",
    "c = (1,)\n",
    "\n",
    "\n",
    "print(a[0])\n",
    "print(a[1:])\n",
    "print(b[-1])\n",
    "\n",
    "\n",
    "\n",
    "print(type(b))\n",
    "\n",
    "\n",
    "\n",
    "d = {\n",
    "    [0,0]: 'o', [0,1]: ' ', [0,2]: ' ',\n",
    "    [1,0]: 'o', [1,1]: ' ', [1,2]: ' ',\n",
    "    [2,0]: 'o', [2,1]: ' ', [2,2]: ' '\n",
    "    }"
   ]
  },
  {
   "cell_type": "code",
   "execution_count": 10,
   "metadata": {},
   "outputs": [
    {
     "name": "stdout",
     "output_type": "stream",
     "text": [
      "[2, 5, 3, 2, 6]\n"
     ]
    }
   ],
   "source": [
    "a = [1, 1, 1, 1, 3]\n",
    "b = [1, 4, 2, 1, 3]\n",
    "\n",
    "def add (a,b):\n",
    "    res = []\n",
    "    for el_a, el_b in zip(a,b):\n",
    "        res.append(el_a+el_b)\n",
    "    return res    \n",
    "print(add(a, b))"
   ]
  },
  {
   "cell_type": "code",
   "execution_count": 4,
   "metadata": {},
   "outputs": [
    {
     "ename": "IndentationError",
     "evalue": "expected an indented block (<ipython-input-4-55d2e9b3d0c4>, line 5)",
     "output_type": "error",
     "traceback": [
      "\u001b[1;36m  File \u001b[1;32m\"<ipython-input-4-55d2e9b3d0c4>\"\u001b[1;36m, line \u001b[1;32m5\u001b[0m\n\u001b[1;33m    result.append(el_a + el_b * gain)\u001b[0m\n\u001b[1;37m         ^\u001b[0m\n\u001b[1;31mIndentationError\u001b[0m\u001b[1;31m:\u001b[0m expected an indented block\n"
     ]
    }
   ],
   "source": []
  },
  {
   "cell_type": "code",
   "execution_count": 2,
   "metadata": {},
   "outputs": [
    {
     "name": "stdout",
     "output_type": "stream",
     "text": [
      "<zip object at 0x000001DB14F95B88>\n"
     ]
    }
   ],
   "source": [
    "a = [1, 1, 1, 1, 3]\n",
    "b = [1, 4, 2, 1, 3]\n",
    "\n",
    "print(zip(a,b))"
   ]
  },
  {
   "cell_type": "code",
   "execution_count": 13,
   "metadata": {},
   "outputs": [
    {
     "name": "stdout",
     "output_type": "stream",
     "text": [
      "[1, 2, 3, 4, 5, 6, 7, 8, 9, 10]\n",
      "[0, 1, 2, 3, 4, 5, 6, 7, 8, 9]\n"
     ]
    },
    {
     "data": {
      "text/plain": [
       "[1, 3, 5, 7, 9, 11, 13, 15, 17, 19]"
      ]
     },
     "execution_count": 13,
     "metadata": {},
     "output_type": "execute_result"
    }
   ],
   "source": [
    "class AddMult(object):\n",
    "    def __init__(self, gain):\n",
    "        self.gain = gain\n",
    "        \n",
    "    def process(self, a, b):\n",
    "        result = []\n",
    "        for el_a, el_b in zip(a,b):\n",
    "            result.append(el_a + el_b)\n",
    "        return result\n",
    "    \n",
    "    \n",
    "a = AddMult(100)\n",
    "\n",
    "x = list(range(1,11))\n",
    "y = list(range(10))\n",
    "\n",
    "print(x)\n",
    "print(y)\n",
    "a.process(x,y)\n"
   ]
  },
  {
   "cell_type": "code",
   "execution_count": 15,
   "metadata": {},
   "outputs": [
    {
     "name": "stdout",
     "output_type": "stream",
     "text": [
      "1.0\n",
      "[0 1 2 3 4 5 6 7 8 9]\n",
      "<module 'this' from 'D:\\\\Anaconda\\\\lib\\\\this.py'>\n",
      "<function deco.<locals>.wrapped at 0x000001DC587096A8>\n"
     ]
    }
   ],
   "source": [
    "import math\n",
    "print(math.sin(math.pi / 2))\n",
    "\n",
    "\n",
    "import numpy as np\n",
    "\n",
    "print(np.arange(10))\n",
    "\n",
    "\n",
    "import this\n",
    "\n",
    "print(this)\n",
    "\n",
    "\n",
    "## fenetre d'analyse de son\n",
    "\n",
    "from scipy.signal import hann\n",
    "\n"
   ]
  },
  {
   "cell_type": "code",
   "execution_count": 19,
   "metadata": {},
   "outputs": [
    {
     "name": "stderr",
     "output_type": "stream",
     "text": [
      "D:\\Anaconda\\lib\\site-packages\\ipykernel_launcher.py:15: RuntimeWarning: divide by zero encountered in log10\n",
      "  from ipykernel import kernelapp as app\n"
     ]
    },
    {
     "data": {
      "text/plain": [
       "Text(0.5,0,'Normalized frequency [cycles per sample]')"
      ]
     },
     "execution_count": 19,
     "metadata": {},
     "output_type": "execute_result"
    },
    {
     "data": {
      "image/png": "[encoded data removed]",
      "text/plain": [
       "<Figure size 432x288 with 1 Axes>"
      ]
     },
     "metadata": {},
     "output_type": "display_data"
    },
    {
     "data": {
      "image/png": "[encoded data removed]",
      "text/plain": [
       "<Figure size 432x288 with 1 Axes>"
      ]
     },
     "metadata": {},
     "output_type": "display_data"
    }
   ],
   "source": [
    "#from scipy import signal\n",
    "from scipy.fftpack import fft, fftshift\n",
    "import matplotlib.pyplot as plt\n",
    "from scipy.signal import hann\n",
    "\n",
    "window = hann(51)\n",
    "plt.plot(window)\n",
    "plt.title(\"Hann window\")\n",
    "plt.ylabel(\"Amplitude\")\n",
    "plt.xlabel(\"Sample\")\n",
    "\n",
    "plt.figure()\n",
    "A = fft(window, 2048) / (len(window)/2.0)\n",
    "freq = np.linspace(-0.5, 0.5, len(A))\n",
    "response = 20 * np.log10(np.abs(fftshift(A / abs(A).max())))\n",
    "plt.plot(freq, response)\n",
    "plt.axis([-0.5, 0.5, -120, 0])\n",
    "plt.title(\"Frequency response of the Hann window\")\n",
    "plt.ylabel(\"Normalized magnitude [dB]\")\n",
    "plt.xlabel(\"Normalized frequency [cycles per sample]\")"
   ]
  }
 ],
 "metadata": {
  "kernelspec": {
   "display_name": "Python 3",
   "language": "python",
   "name": "python3"
  },
  "language_info": {
   "codemirror_mode": {
    "name": "ipython",
    "version": 3
   },
   "file_extension": ".py",
   "mimetype": "text/x-python",
   "name": "python",
   "nbconvert_exporter": "python",
   "pygments_lexer": "ipython3",
   "version": "3.6.5"
  }
 },
 "nbformat": 4,
 "nbformat_minor": 2
}
