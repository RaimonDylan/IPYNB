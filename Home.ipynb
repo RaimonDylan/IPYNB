{
 "cells": [
  {
   "cell_type": "code",
   "execution_count": 4,
   "metadata": {},
   "outputs": [
    {
     "name": "stdout",
     "output_type": "stream",
     "text": [
      "dav\n"
     ]
    }
   ],
   "source": [
    "''' multi\n",
    "comment\n",
    "'''\n",
    "\n",
    "name = \"dav\"\n",
    "print(name)\n",
    "\n",
    "\n",
    "\n"
   ]
  },
  {
   "cell_type": "markdown",
   "metadata": {},
   "source": [
    "## LIST"
   ]
  },
  {
   "cell_type": "code",
   "execution_count": 10,
   "metadata": {},
   "outputs": [
    {
     "name": "stdout",
     "output_type": "stream",
     "text": [
      "[['meh', 'toh', 'teh'], ['meo', 'meow', 'meme']]\n",
      "meh\n",
      "[['meh', 'toh', 'teh'], ['meo', 'meow', 'meme'], ['meh', 'ouloulou']]\n",
      "[['meh', 'toh', 'teh'], 'meee', ['meo', 'meow', 'meme'], ['meh', 'ouloulou']]\n",
      "[['meh', 'toh', 'teh'], ['meo', 'meow', 'meme'], ['meh', 'ouloulou']]\n",
      "[['meh', 'toh', 'teh'], ['meo', 'meow', 'meme'], ['meh', 'ouloulou'], 'meh', 'toh', 'teh']\n",
      "6\n"
     ]
    }
   ],
   "source": [
    "\n",
    "a = ['meh', 'toh', 'teh']\n",
    "\n",
    "b = ['meo', 'meow', 'meme']\n",
    "c = [a,b]\n",
    "print(c)\n",
    "print(c[0][0])\n",
    "c.append(['meh', 'ouloulou'])\n",
    "print(c)\n",
    "\n",
    "c.insert(1, 'meee')\n",
    "\n",
    "print(c)\n",
    "\n",
    "del(c[1])\n",
    "print(c)\n",
    "\n",
    "\n",
    "list2 = c + a\n",
    "\n",
    "print(list2)\n",
    "print(len(list2))"
   ]
  },
  {
   "cell_type": "markdown",
   "metadata": {},
   "source": [
    "## TUPLES, DICT"
   ]
  },
  {
   "cell_type": "code",
   "execution_count": 20,
   "metadata": {},
   "outputs": [
    {
     "name": "stdout",
     "output_type": "stream",
     "text": [
      "('meh', 'toh', 'teh')\n",
      "Jean Meow\n",
      "{'Fiddler': 'Isaac bowin', 'SuperCat': 'Jean Meow', 'JeanDav': 'Dav'}\n",
      "dict_values(['Isaac bowin', 'Jean Meow', 'Dav'])\n"
     ]
    }
   ],
   "source": [
    "a = ['meh', 'toh', 'teh']\n",
    "print(tuple(a))\n",
    "\n",
    "super_villains = {'Fiddler': 'Isaac bowin', 'SuperCat': 'Jean Meow', 'SeowMeh': 'Jean Meh'}\n",
    "\n",
    "print(super_villains['SuperCat'])\n",
    "del super_villains['SeowMeh']\n",
    "\n",
    "super_villains['JeanDav'] = 'Dav'\n",
    "\n",
    "print(super_villains)\n",
    "\n",
    "\n",
    "print(super_villains.values())\n",
    "\n",
    "\n"
   ]
  },
  {
   "cell_type": "code",
   "execution_count": null,
   "metadata": {},
   "outputs": [],
   "source": []
  }
 ],
 "metadata": {
  "kernelspec": {
   "display_name": "Python 3",
   "language": "python",
   "name": "python3"
  },
  "language_info": {
   "codemirror_mode": {
    "name": "ipython",
    "version": 3
   },
   "file_extension": ".py",
   "mimetype": "text/x-python",
   "name": "python",
   "nbconvert_exporter": "python",
   "pygments_lexer": "ipython3",
   "version": "3.6.5"
  }
 },
 "nbformat": 4,
 "nbformat_minor": 2
}
