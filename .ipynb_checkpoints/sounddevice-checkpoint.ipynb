{
 "cells": [
  {
   "cell_type": "code",
   "execution_count": 61,
   "metadata": {},
   "outputs": [],
   "source": [
    "import sounddevice as sd\n",
    "fs = 8000\n",
    "dur = 2.0\n",
    "t = np.arange(0.0, dur, 1/fs)\n",
    "s = 0.8 * np.sin(2 * np.pi * 220.0 * t)\n",
    "sd.play(s, samplerate=fs, loop=False)"
   ]
  },
  {
   "cell_type": "code",
   "execution_count": 85,
   "metadata": {},
   "outputs": [],
   "source": [
    "# reproduire 1.5 sec d'un ton pur a 220h avec une f de 8000\n",
    "import numpy as np\n",
    "import sounddevice as sd\n",
    "import matplotlib.pyplot as plt\n",
    "\n",
    "fs = 8000\n",
    "dur = 1.5\n",
    "t = np.arange(0.0, dur, 1/fs)\n",
    "s_1 = 0.8 * np.sin(2 * np.pi * 220.0 * t)\n",
    "sd.play(s_1, samplerate=fs, loop=False)\n",
    "\n"
   ]
  },
  {
   "cell_type": "code",
   "execution_count": 83,
   "metadata": {},
   "outputs": [],
   "source": [
    "dur = 1.5\n",
    "t = np.arange(0.0, dur, 1/fs)\n",
    "s_2 = 0.8 * np.sin(2 * np.pi * 440.0 * t)\n",
    "sd.play(s_2, samplerate=fs, loop=False)\n",
    "\n",
    "sz = np.zeros(400)\n"
   ]
  },
  {
   "cell_type": "code",
   "execution_count": 82,
   "metadata": {},
   "outputs": [],
   "source": [
    "meh = np.concatenate((s_1,sz,s_2))\n",
    "sd.play(meh, samplerate=fs, loop=False)\n",
    "\n",
    "\n",
    "\n"
   ]
  },
  {
   "cell_type": "code",
   "execution_count": 104,
   "metadata": {},
   "outputs": [
    {
     "name": "stdout",
     "output_type": "stream",
     "text": [
      "8000\n"
     ]
    },
    {
     "data": {
      "image/png": "[encoded data removed]",
      "text/plain": [
       "<Figure size 432x288 with 1 Axes>"
      ]
     },
     "metadata": {},
     "output_type": "display_data"
    }
   ],
   "source": [
    "fs_s = 8000\n",
    "tbase = np.arange(int(fs_s))/fs_s\n",
    "print(tbase.size)\n",
    "t = np.arange(int(2.5*fs_s))/fs_s\n",
    "s = np.zeros(int(2.5*fs))\n",
    "s[:fs_s] = 0.7 * np.sin(2 * np.pi * 220.0 * tbase)\n",
    "s[-fs_s:] = 0.7 * np.sin(2 * np.pi * 440.0 * tbase)\n",
    "plt.plot(s)\n",
    "sd.play(s, samplerate=fs, loop=False)"
   ]
  },
  {
   "cell_type": "code",
   "execution_count": null,
   "metadata": {},
   "outputs": [],
   "source": [
    "import sounddevice as sd\n",
    "import matplotlib.pyplot as plt\n",
    "fs = 48000\n",
    "dur = 5.0\n",
    "frames = int(dur * fs)\n",
    "s = sd.rec(frames, channels=1, samplerate=fs, blocking=True)\n",
    "plt.plot(np.arange(frames) / fs, s)\n",
    "plt.show()\n",
    "sd.play(s)"
   ]
  },
  {
   "cell_type": "code",
   "execution_count": 2,
   "metadata": {},
   "outputs": [],
   "source": [
    "import sounddevice as sd\n",
    "duration = 10.5  # seconds\n",
    "\n",
    "def callback(indata, outdata, frames, time, status):\n",
    "    if status:\n",
    "        print(status)\n",
    "    outdata[:] = indata\n",
    "\n",
    "with sd.Stream(channels=2, callback=callback):\n",
    "    sd.sleep(int(duration * 1000))"
   ]
  }
 ],
 "metadata": {
  "kernelspec": {
   "display_name": "Python 3",
   "language": "python",
   "name": "python3"
  },
  "language_info": {
   "codemirror_mode": {
    "name": "ipython",
    "version": 3
   },
   "file_extension": ".py",
   "mimetype": "text/x-python",
   "name": "python",
   "nbconvert_exporter": "python",
   "pygments_lexer": "ipython3",
   "version": "3.6.5"
  }
 },
 "nbformat": 4,
 "nbformat_minor": 2
}
