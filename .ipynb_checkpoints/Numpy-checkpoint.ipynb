{
 "cells": [
  {
   "cell_type": "code",
   "execution_count": 4,
   "metadata": {},
   "outputs": [
    {
     "name": "stdout",
     "output_type": "stream",
     "text": [
      "<class 'numpy.ndarray'>\n",
      "(3,)\n",
      "1 2 3\n",
      "[5 2 3]\n",
      "(2, 3)\n",
      "int32\n",
      "1 2 4\n"
     ]
    }
   ],
   "source": [
    "import numpy as np      # Importer le module numpy\n",
    "a = np.array([1, 2, 3]) # Init avec liste\n",
    "print(type(a))          # Type de l’objet array\n",
    "print(a.shape)          # Dimensions de l’objet\n",
    "print(a[0], a[1], a[2]) # Accès aux éléments\n",
    "a[0] = 5                # Modif des éléments\n",
    "print(a)\n",
    "b = np.array([[1,2,3], [4,5,6]]) # Init avec liste de listes\n",
    "\n",
    "print(b.shape)\n",
    "print(b.dtype)\n",
    "print(b[0, 0], b[0, 1], b[1, 0])"
   ]
  },
  {
   "cell_type": "markdown",
   "metadata": {},
   "source": [
    "- x.ndim: le nombre de dimensions\n",
    "- x.shape: les dimensions (un tuple d’entiers >0)\n",
    "- x.dtype: le type des valeurs\n",
    "- x.size: le nombre total de valeurs\n",
    "\n"
   ]
  },
  {
   "cell_type": "code",
   "execution_count": 28,
   "metadata": {},
   "outputs": [
    {
     "name": "stdout",
     "output_type": "stream",
     "text": [
      "[[1. 1.]]\n",
      "[0 1 2 3 4 5 6 7 8 9]\n",
      "(10,)\n",
      "[0 0 0 0 0 0 0 0 0 0]\n",
      "[1 1 1 1 1 1 1 1 1 1]\n"
     ]
    }
   ],
   "source": [
    "import numpy as np\n",
    "a = np.zeros((2,2)) # Init a 0\n",
    "\n",
    "#print(a)\n",
    "\n",
    "b = np.ones((1,2))\n",
    "print(b)\n",
    "\n",
    "\n",
    "c = np.arange(10)\n",
    "print(c)\n",
    "print(c.shape)\n",
    "\n",
    "b_zeros = np.zeros_like(c)\n",
    "print(b_zeros)\n",
    "c_ones = np.ones_like(c)\n",
    "print(c_ones)"
   ]
  },
  {
   "cell_type": "code",
   "execution_count": 53,
   "metadata": {},
   "outputs": [
    {
     "name": "stdout",
     "output_type": "stream",
     "text": [
      "[[[1 2 3]\n",
      "  [1 2 3]\n",
      "  [1 2 3]]\n",
      "\n",
      " [[1 2 3]\n",
      "  [1 2 3]\n",
      "  [1 2 3]]]\n",
      "(2, 3, 3)\n"
     ]
    }
   ],
   "source": [
    "import numpy as np\n",
    "\n",
    "\n",
    "a = np.array([[[1,2,3],[1,2,3],[1,2,3]], [[1,2,3],[1,2,3],[1,2,3]]])\n",
    "print(a)\n",
    "print(a.shape)\n"
   ]
  },
  {
   "cell_type": "code",
   "execution_count": 116,
   "metadata": {},
   "outputs": [],
   "source": [
    "h = np.linspace(0,2,20)\n",
    "#print(h)"
   ]
  },
  {
   "cell_type": "code",
   "execution_count": 112,
   "metadata": {},
   "outputs": [
    {
     "name": "stdout",
     "output_type": "stream",
     "text": [
      "[[0. 0.]\n",
      " [0. 0.]]\n",
      "[99.75043629]\n"
     ]
    }
   ],
   "source": [
    "a = np.zeros((2,2)) # Shape du tableau qu'on veut 2 lignes 2 colones de 0\n",
    "print(a)\n",
    "b = np.zeros((3,3,3), dtype=int) ## précise le type\n",
    "#print(b)\n",
    "\n",
    "c = np.full((2,2), np.nan)\n",
    "#print(c)\n",
    "\n",
    "e = np.full((100,), np.random.normal(0,1))\n",
    "\n",
    "#print(e)\n",
    "\n",
    "normal = np.random.normal((100,))\n",
    "print(normal)\n",
    "#print(np.eye(2))\n",
    "\n",
    "\n",
    "f = np.random.randint(10, size=100)\n",
    "#print(f)"
   ]
  },
  {
   "cell_type": "code",
   "execution_count": 123,
   "metadata": {},
   "outputs": [
    {
     "name": "stdout",
     "output_type": "stream",
     "text": [
      "[-0.36353316 -0.54845382 -1.14656223  0.3195119  -1.32608666  1.22821135\n",
      " -0.11843338  0.18141156 -0.47309747  1.54957118  0.17721503 -0.17280882\n",
      " -0.29715923 -0.67079246  1.9247999   0.41649468  0.0671066  -0.06445784\n",
      "  0.46468727  0.37254824]\n"
     ]
    },
    {
     "data": {
      "image/png": "[encoded data removed]",
      "text/plain": [
       "<Figure size 432x288 with 1 Axes>"
      ]
     },
     "metadata": {},
     "output_type": "display_data"
    }
   ],
   "source": [
    "s = np.random.normal(0, 1, 20)\n",
    "print(s)\n",
    "import matplotlib.pyplot as plt\n",
    "plt.plot(s)\n",
    "plt.show()"
   ]
  },
  {
   "cell_type": "code",
   "execution_count": 134,
   "metadata": {},
   "outputs": [],
   "source": [
    "# Array vide pour stocker 10sec de video greyscale à 24 fps avec une res de 240x320\n",
    "\n",
    "\n",
    "a = np.zeros((24*10,240,320))\n",
    "\n",
    "#rgb = np.zeros((240,240,320),3)\n",
    "#e = np.random.random((24*10,240,320))\n",
    "\n",
    "\n"
   ]
  },
  {
   "cell_type": "code",
   "execution_count": 146,
   "metadata": {},
   "outputs": [
    {
     "name": "stdout",
     "output_type": "stream",
     "text": [
      "4\n",
      "[[2 3]\n",
      " [6 7]]\n"
     ]
    }
   ],
   "source": [
    "import numpy as np\n",
    "a = np.array([[1,2,3,4],[5,6,7,8],[9,10,11,12]])\n",
    "\n",
    "print(a[0, -1])\n",
    "b = a[:2, 1:3]\n",
    "print(b)\n",
    "# b est une view de a,  si on change a, b va changer et inversement"
   ]
  },
  {
   "cell_type": "code",
   "execution_count": 168,
   "metadata": {},
   "outputs": [
    {
     "name": "stdout",
     "output_type": "stream",
     "text": [
      "[[ 0  2  0  4]\n",
      " [ 0  6  0  8]\n",
      " [ 0 10  0 12]]\n",
      "[[ 0  2  0  4]\n",
      " [-1 -1 -1 -1]\n",
      " [-1 -1 -1 -1]]\n"
     ]
    }
   ],
   "source": [
    "a = np.array([[1,2,3,4],\n",
    "              [5,6,7,8],\n",
    "              [9,10,11,12]])\n",
    "\n",
    "# View à la 3eme colonne\n",
    "#print(a[:, 2])\n",
    "\n",
    "# Colonnes impaires à 0\n",
    "a[:,::2] = 0\n",
    "print(a)\n",
    "\n",
    "# Colonnes paires à 0\n",
    "#a[:,1::2] = 0\n",
    "\n",
    "# Dernieres 2 lignes à -1\n",
    "a[-2:, :] = -1\n",
    "print(a)\n",
    "\n"
   ]
  },
  {
   "cell_type": "code",
   "execution_count": 172,
   "metadata": {},
   "outputs": [
    {
     "name": "stdout",
     "output_type": "stream",
     "text": [
      "[1 4 5]\n",
      "[1 4 5]\n",
      "[1 6 8]\n"
     ]
    }
   ],
   "source": [
    "a = np.array([[1,2],[3, 4],[5, 6]])\n",
    "print(a[[0, 1, 2],[0, 1, 0]])\n",
    "# Équivalent à\n",
    "print(np.array([a[0, 0],a[1, 1],a[2, 0]]))\n",
    "\n",
    "\n",
    "\n"
   ]
  },
  {
   "cell_type": "code",
   "execution_count": null,
   "metadata": {},
   "outputs": [],
   "source": []
  },
  {
   "cell_type": "markdown",
   "metadata": {},
   "source": [
    "## Ne va pas créer de View, / ! \\ ATTENTION / ! \\\n",
    "```python\n",
    "a = np.array([[1,2,3],[4,5,6],[7,8,9]])\n",
    "print(a[np.arange(3), [0, 2, 1]]) # np.arange => get [0,0] [1,2] [2,1] like for loop\n",
    "```"
   ]
  },
  {
   "cell_type": "code",
   "execution_count": 176,
   "metadata": {},
   "outputs": [
    {
     "name": "stdout",
     "output_type": "stream",
     "text": [
      "[1 6 8]\n",
      "[[23  2  3]\n",
      " [ 4  5 28]\n",
      " [ 7 30  9]]\n"
     ]
    }
   ],
   "source": [
    "a = np.array([[1,2,3],[4,5,6],[7,8,9]])\n",
    "print(a[np.arange(3), [0, 2, 1]]) # np.arange => get [0,0] [1,2] [2,1] like for loop\n",
    "\n",
    "a[np.arange(3), [0, 2, 1]] += 22 ## Mais permet de muter les valeurs\n",
    "\n",
    "print(a)\n",
    "\n",
    "\n"
   ]
  },
  {
   "cell_type": "markdown",
   "metadata": {},
   "source": [
    "## Arrays (indexation boolean arrays)"
   ]
  },
  {
   "cell_type": "code",
   "execution_count": 203,
   "metadata": {},
   "outputs": [
    {
     "name": "stdout",
     "output_type": "stream",
     "text": [
      "[[False False]\n",
      " [ True  True]\n",
      " [ True  True]]\n",
      "[3 4 5 6]\n",
      "[[0. 0. 0. 0.]\n",
      " [0. 1. 0. 1.]\n",
      " [1. 0. 0. 1.]]\n",
      "(array([8, 9], dtype=int64),)\n",
      "{'index': array([5, 6, 7, 8, 9], dtype=int64)}\n"
     ]
    }
   ],
   "source": [
    "a = np.array([[1,2],\n",
    "[3, 4],\n",
    "[5, 6]])\n",
    "bool_idx = (a > 2)\n",
    "print(bool_idx)\n",
    "\n",
    "\n",
    "print(a[bool_idx])\n",
    "\n",
    "b = np.random.random((3, 4))\n",
    "b[b>0.5] = 1\n",
    "b[b<0.5] = 0\n",
    "\n",
    "print(b)\n",
    "\n",
    "\n",
    "\n",
    "x = np.arange(10)\n",
    "print(np.where(x>7)) ## return index d'entier ou les valeurs sont vraies\n",
    "where = np.where(x>4)\n",
    "\n",
    "wheres = {'index': where[0]}\n",
    "print(wheres)"
   ]
  },
  {
   "cell_type": "code",
   "execution_count": 204,
   "metadata": {},
   "outputs": [
    {
     "name": "stdout",
     "output_type": "stream",
     "text": [
      "int32\n",
      "[0 1 2 3 4 5 6 7 8 9]\n",
      "float32\n",
      "[0. 1. 2. 3. 4. 5. 6. 7. 8. 9.]\n"
     ]
    }
   ],
   "source": [
    "ai = np.arange(10, dtype=np.int32)\n",
    "af = np.arange(10, dtype=np.float32)\n",
    "print(ai.dtype)\n",
    "print(ai)\n",
    "print(af.dtype)\n",
    "print(af)\n",
    "\n",
    "\n"
   ]
  },
  {
   "cell_type": "code",
   "execution_count": 207,
   "metadata": {},
   "outputs": [
    {
     "name": "stdout",
     "output_type": "stream",
     "text": [
      "[[1. 1.]\n",
      " [1. 1.]]\n",
      "[[1 2]\n",
      " [3 4]]\n",
      "[[4. 6.]\n",
      " [4. 6.]]\n"
     ]
    }
   ],
   "source": [
    "a = np.ones((2, 2))\n",
    "b = np.array([[1, 2],[3, 4]])\n",
    "\n",
    "print(a)\n",
    "print(b)\n",
    "multiplication_matricielle = a.dot(b)\n",
    "print(multiplication_matricielle)\n"
   ]
  }
 ],
 "metadata": {
  "kernelspec": {
   "display_name": "Python 3",
   "language": "python",
   "name": "python3"
  },
  "language_info": {
   "codemirror_mode": {
    "name": "ipython",
    "version": 3
   },
   "file_extension": ".py",
   "mimetype": "text/x-python",
   "name": "python",
   "nbconvert_exporter": "python",
   "pygments_lexer": "ipython3",
   "version": "3.6.5"
  }
 },
 "nbformat": 4,
 "nbformat_minor": 2
}
