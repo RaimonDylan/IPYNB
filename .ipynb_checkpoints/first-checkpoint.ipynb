{
 "cells": [
  {
   "cell_type": "markdown",
   "metadata": {},
   "source": [
    "## Notes\n",
    "- Langage de haut niveau\n",
    "- Indentation interprétée\n",
    "- Langage dynamique et interprété\n",
    "\n",
    "\"\"\" Commentaire python \n",
    "String multiligne\n",
    "\"\"\""
   ]
  },
  {
   "cell_type": "code",
   "execution_count": 30,
   "metadata": {},
   "outputs": [],
   "source": [
    "# Packages\n",
    "import numpy as np\n",
    "import matplotlib as plt\n",
    "import scipy \n",
    "import sounddevice\n",
    "import librosa"
   ]
  },
  {
   "cell_type": "code",
   "execution_count": 31,
   "metadata": {},
   "outputs": [
    {
     "name": "stdout",
     "output_type": "stream",
     "text": [
      "<class 'bool'>\n",
      "<class 'str'>\n",
      "<class 'complex'>\n"
     ]
    }
   ],
   "source": [
    "a = True\n",
    "print(type(a))\n",
    "b = \"éééééééé\"\n",
    "print(type(b))\n",
    "print(type(1j))\n"
   ]
  },
  {
   "cell_type": "code",
   "execution_count": 47,
   "metadata": {},
   "outputs": [
    {
     "name": "stdout",
     "output_type": "stream",
     "text": [
      "False\n",
      "print(a || b) not working\n"
     ]
    }
   ],
   "source": [
    "a = True\n",
    "b = False\n",
    "print(a and b)\n",
    "print('print(a || b) not working')"
   ]
  },
  {
   "cell_type": "code",
   "execution_count": 184,
   "metadata": {},
   "outputs": [
    {
     "name": "stdout",
     "output_type": "stream",
     "text": [
      "m_e_h\n",
      "LOURD\n",
      "Text relou      .\n",
      "Textrelou.\n",
      "S'il\n",
      "Sil\n",
      "['COUCOU', 1, 4, 21, 112, 'Hello', 4, 'World']\n",
      "COUCOU\n",
      "[1, 2, 3, 4, 6]\n",
      "[0, 1, 2, 3, 4, 5, 6, 7, 8, 9]\n",
      "[2, 3]\n",
      "2\n",
      "[0, 1, 2, 3, 4]\n",
      "[3, 4, 5, 6, 7, 8, 9]\n",
      "[0, 1, 2, 3, 4, 5, 6, 7, 8]\n",
      "[2, 4]\n",
      "Imprimez tous les numeros impairs\n",
      "[1, 3, 5, 7, 9, 11, 13, 15, 17, 19, 21, 23, 25, 27, 29, 31, 33, 35, 37, 39, 41, 43, 45, 47, 49, 51, 53, 55, 57, 59, 61, 63, 65, 67, 69, 71, 73, 75, 77, 79, 81, 83, 85, 87, 89, 91, 93, 95, 97, 99]\n",
      "Imprimez tous les numeros pairs\n",
      "[0, 2, 4, 6, 8, 10, 12, 14, 16, 18, 20, 22, 24, 26, 28, 30, 32, 34, 36, 38, 40, 42, 44, 46, 48, 50, 52, 54, 56, 58, 60, 62, 64, 66, 68, 70, 72, 74, 76, 78, 80, 82, 84, 86, 88, 90, 92, 94, 96, 98]\n",
      "Imprimez tous les numeros multiples de 3\n",
      "[0, 3, 6, 9, 12, 15, 18, 21, 24, 27, 30, 33, 36, 39, 42, 45, 48, 51, 54, 57, 60, 63, 66, 69, 72, 75, 78, 81, 84, 87, 90, 93, 96, 99]\n",
      "Imprimez tous les numeros multiples de 5\n",
      "[0, 5, 10, 15, 20, 25, 30, 35, 40, 45, 50, 55, 60, 65, 70, 75, 80, 85, 90, 95]\n",
      "Imprimez tous les numeros de 99 à 0\n",
      "[99, 98, 97, 96, 95, 94, 93, 92, 91, 90, 89, 88, 87, 86, 85, 84, 83, 82, 81, 80, 79, 78, 77, 76, 75, 74, 73, 72, 71, 70, 69, 68, 67, 66, 65, 64, 63, 62, 61, 60, 59, 58, 57, 56, 55, 54, 53, 52, 51, 50, 49, 48, 47, 46, 45, 44, 43, 42, 41, 40, 39, 38, 37, 36, 35, 34, 33, 32, 31, 30, 29, 28, 27, 26, 25, 24, 23, 22, 21, 20, 19, 18, 17, 16, 15, 14, 13, 12, 11, 10, 9, 8, 7, 6, 5, 4, 3, 2, 1, 0]\n",
      "cat => 0\n",
      "dog => 1\n",
      "dolphin => 2\n",
      "bear => 3\n",
      "['CAT', 'DOG', 'DOLPHIN', 'BEAR']\n"
     ]
    },
    {
     "ename": "TypeError",
     "evalue": "'generator' object is not subscriptable",
     "output_type": "error",
     "traceback": [
      "\u001b[1;31m---------------------------------------------------------------------------\u001b[0m",
      "\u001b[1;31mTypeError\u001b[0m                                 Traceback (most recent call last)",
      "\u001b[1;32m<ipython-input-184-21e6f177aa28>\u001b[0m in \u001b[0;36m<module>\u001b[1;34m()\u001b[0m\n\u001b[0;32m     72\u001b[0m \u001b[1;33m\u001b[0m\u001b[0m\n\u001b[0;32m     73\u001b[0m \u001b[0manimeh\u001b[0m \u001b[1;33m=\u001b[0m \u001b[1;33m(\u001b[0m\u001b[0manimal\u001b[0m\u001b[1;33m.\u001b[0m\u001b[0mupper\u001b[0m\u001b[1;33m(\u001b[0m\u001b[1;33m)\u001b[0m \u001b[1;32mfor\u001b[0m \u001b[0manimal\u001b[0m \u001b[1;32min\u001b[0m \u001b[0manimals\u001b[0m \u001b[1;32mif\u001b[0m \u001b[0manimal\u001b[0m\u001b[1;33m.\u001b[0m\u001b[0mstartswith\u001b[0m\u001b[1;33m(\u001b[0m\u001b[1;34m'c'\u001b[0m\u001b[1;33m)\u001b[0m\u001b[1;33m)\u001b[0m\u001b[1;33m\u001b[0m\u001b[0m\n\u001b[1;32m---> 74\u001b[1;33m \u001b[0mprint\u001b[0m\u001b[1;33m(\u001b[0m\u001b[0manimeh\u001b[0m\u001b[1;33m[\u001b[0m\u001b[1;33m:\u001b[0m\u001b[1;33m]\u001b[0m\u001b[1;33m)\u001b[0m\u001b[1;33m\u001b[0m\u001b[0m\n\u001b[0m\u001b[0;32m     75\u001b[0m \u001b[1;33m\u001b[0m\u001b[0m\n\u001b[0;32m     76\u001b[0m \u001b[1;32mfor\u001b[0m \u001b[0mnn\u001b[0m \u001b[1;32min\u001b[0m \u001b[0manimeh\u001b[0m\u001b[1;33m:\u001b[0m\u001b[1;33m\u001b[0m\u001b[0m\n",
      "\u001b[1;31mTypeError\u001b[0m: 'generator' object is not subscriptable"
     ]
    }
   ],
   "source": [
    "m = \"m\"\n",
    "e = \"e\"\n",
    "h = \"h\"\n",
    "\n",
    "print(f'{m}_{e}_{h}')\n",
    "print('LOURD')\n",
    "\n",
    "n = \" Text relou      .\"\n",
    "print(n.strip())\n",
    "print(n.replace(' ', ''))\n",
    "\n",
    "print(\"S'il\")\n",
    "print('S''il')\n",
    "\n",
    "\n",
    "c = ['COUCOU', 1, 4, 21, 112, 'Hello', 4, 'World']\n",
    "print(c)\n",
    "\n",
    "\n",
    "listMeh = [1,2,3,4,6]\n",
    "listMeh.append('COUCOU')\n",
    "\n",
    "print(listMeh.pop())\n",
    "print(listMeh)\n",
    "\n",
    "\n",
    "ar = list(range(0,10))\n",
    "\n",
    "print(ar)\n",
    "print(ar[2:4]) # 2 compris | 4 non compris\n",
    "print(len(ar[2:4]))\n",
    "print(ar[:5])\n",
    "\n",
    "print(ar[3:None])\n",
    "print(ar[:-1])\n",
    "\n",
    "\n",
    "\n",
    "nums = list(range(10))\n",
    "print(nums[2:6:2])\n",
    "\n",
    "\n",
    "nums = list(range(100))\n",
    "print('Imprimez tous les numeros impairs')\n",
    "print(nums[1::2])\n",
    "print('Imprimez tous les numeros pairs')\n",
    "print(nums[:None:2])\n",
    "print('Imprimez tous les numeros multiples de 3')\n",
    "print(nums[:None:3])\n",
    "print('Imprimez tous les numeros multiples de 5')\n",
    "print(nums[:None:5])\n",
    "print('Imprimez tous les numeros de 99 à 0')\n",
    "print(nums[:None:-1])\n",
    "\n",
    "# for i in nums: print(i)\n",
    "\n",
    "# for i in range(10):\n",
    "\n",
    "animals = ['cat', 'dog', 'dolphin', 'bear']\n",
    "\n",
    "for i, animal in enumerate(animals):\n",
    "    print(f'{animal} => {i}')\n",
    "    \n",
    "animals_upper = [];\n",
    "for animal in animals:\n",
    "    animals_upper.append(animal.upper())\n",
    "    \n",
    "print(animals_upper)\n",
    "\n",
    "# DAAAAAAAAAMN\n",
    "#animeh = [animal.upper() for animal in animals if animal.startswith('c')]\n",
    "\n",
    "animeh = (animal.upper() for animal in animals if animal.startswith('c'))\n",
    "print(animeh[:])\n",
    "\n",
    "\n",
    "\n",
    "\n",
    "meh = []\n",
    "for i in range(10):\n",
    "    meh.append(i**2)\n",
    "\n",
    "print(meh)\n",
    "\n",
    "ss = set() # Iems unique et non ordonné\n",
    "ss.add('meh')\n",
    "ss.add('meh1')\n",
    "ss.add('meh2')\n",
    "ss.add('meh2')\n",
    "#print(ss)\n",
    "#for meh in ss:\n",
    "#    if(meh == 'meh1'):\n",
    "#        ss.remove(meh)"
   ]
  }
 ],
 "metadata": {
  "kernelspec": {
   "display_name": "Python 3",
   "language": "python",
   "name": "python3"
  },
  "language_info": {
   "codemirror_mode": {
    "name": "ipython",
    "version": 3
   },
   "file_extension": ".py",
   "mimetype": "text/x-python",
   "name": "python",
   "nbconvert_exporter": "python",
   "pygments_lexer": "ipython3",
   "version": "3.6.5"
  }
 },
 "nbformat": 4,
 "nbformat_minor": 2
}
